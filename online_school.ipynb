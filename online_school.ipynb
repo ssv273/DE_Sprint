{
 "cells": [
  {
   "cell_type": "code",
   "execution_count": 4,
   "metadata": {},
   "outputs": [],
   "source": [
    "import requests\n",
    "from bs4 import BeautifulSoup\n",
    "import pandas as pd\n",
    "# from tqdm import tqdm\n",
    "import re\n",
    "from random import randint\n",
    "from time import sleep\n",
    "import pickle\n",
    "from tqdm.notebook import tqdm"
   ]
  },
  {
   "cell_type": "code",
   "execution_count": 5,
   "metadata": {},
   "outputs": [],
   "source": [
    "addr = [\n",
    "    \"https://irecommend.ru/content/sait-skillbox-onlain-shkola\",\n",
    "    \"https://otzovik.com/reviews/kursi_programmirovaniya_skillbox_russia_moscow/\",\n",
    "    \"https://mooc.ru/company/skillbox/reviews\",\n",
    "    \"https://yandex.ru/maps/org/skillbox/4275407173/reviews/?ll=37.607031%2C55.727789&z=14\",\n",
    "    \"https://otzovik.com/reviews/netology_ru-onlayn_universitet_netologiya/\",\n",
    "    \"https://irecommend.ru/content/sait-netologiya\",\n",
    "    \"https://mooc.ru/company/netology/reviews\",\n",
    "    \"https://yandex.ru/maps/org/netologiya/205031471256/reviews/?ll=37.624381%2C55.704101&z=14\",\n",
    "    \"https://otzovik.com/reviews/geekbrains_ru-obuchayuschiy_portal_dlya_programmistov/\",\n",
    "    \"https://mooc.ru/company/geekbrains/reviews\",\n",
    "    \"https://irecommend.ru/content/sait-geekbrains\",\n",
    "    \"https://yandex.ru/maps/org/geekbrains/1402263817/reviews/?ll=37.536922%2C55.796562&z=15\",\n",
    "    \"https://irecommend.ru/content/sait-skillfactoryru\",\n",
    "    \"https://otzovik.com/reviews/kurs_python_dlya_analiza_dannih-onlayn_shkola_skillfactory_russia_moscow/\",\n",
    "    \"https://mooc.ru/company/skillfactory/reviews\",\n",
    "    \"https://yandex.ru/maps/org/skillfactory/237135461560/reviews/?ll=37.622473%2C55.772409&z=14\",\n",
    "    \"https://otzovik.com/reviews/yandeks_praktikum-servis_onlayn-obrazovaniya/\",\n",
    "    \"https://mooc.ru/company/yandex/reviews\",\n",
    "    \"https://irecommend.ru/content/kompyuternaya-programma-yandeks-praktikum\"\n",
    "]"
   ]
  },
  {
   "cell_type": "code",
   "execution_count": 6,
   "metadata": {},
   "outputs": [],
   "source": [
    "irecommend = [i for i in addr if \"irecommend\" in i]\n",
    "otzovik = [i for i in addr if \"otzovik\" in i]\n",
    "mooc = [i for i in addr if \"mooc.ru\" in i]\n",
    "yandex = [i for i in addr if \"yandex.ru\" in i]"
   ]
  },
  {
   "cell_type": "markdown",
   "metadata": {},
   "source": [
    "# `OTZOVIK`"
   ]
  },
  {
   "cell_type": "code",
   "execution_count": 4,
   "metadata": {},
   "outputs": [],
   "source": [
    "headers = {'Accept' : 'text/html,application/xhtml+xml,application/xml;q=0.9,image/avif,image/webp,*/*;q=0.8',\n",
    "'Accept-Encoding' : 'gzip, deflate, br',\n",
    "'Accept-Language' : 'ru-RU,ru;q=0.8,en-US;q=0.5,en;q=0.3',\n",
    "'Connection' : 'keep-alive',\n",
    "'Cache-Control' : 'no-cache',\n",
    "'Cookie' : 'ssid=4098110196; refreg=1660531813~; ROBINBOBIN=38066c28028a9fcbab01227d72; guid=8f9aa153d6a514f63b1e55fdf028f9f9', \n",
    "# 'Referer' : ref, \n",
    "'Upgrade-Insecure-Requests' : '1',\n",
    "'User-Agent' : 'Mozilla/5.0 (X11; Ubuntu; Linux x86_64; rv:101.0) Gecko/20100101 Firefox/101.0'}"
   ]
  },
  {
   "cell_type": "code",
   "execution_count": 5,
   "metadata": {},
   "outputs": [],
   "source": [
    "def get_review_data(url):\n",
    "    '''Функция, собирающая данные с отзыва.'''\n",
    "    req = requests.get(url, headers=headers)\n",
    "    soup = BeautifulSoup(req.content, 'html.parser')\n",
    "\n",
    "    user_name = soup.find('img', class_='photo')['alt']\n",
    "\n",
    "    text = soup.find('div', class_='review-body description').text.replace('\"', '\"\"') # Для вывода в CSV меняем кавычки на двойные кавычки\n",
    "    date = soup.find('abbr', class_='value')['title']\n",
    "    rating = soup.find('abbr', class_='rating')['title']\n",
    "    plus = soup.find('div', class_='review-plus').text.replace('\"', '\"\"')\n",
    "    minus = soup.find('div', class_='review-minus').text.replace('\"', '\"\"')\n",
    "    res ={}\n",
    "    res['company'] = soup.find('a', class_=\"product-name\")['title']\n",
    "    res['plus'] = plus\n",
    "    res['minus'] = minus\n",
    "    res['text'] = text\n",
    "    res['date'] = date\n",
    "    res['rating'] = rating\n",
    "    res['user_name'] = user_name\n",
    "    res['url'] = url\n",
    "    return res"
   ]
  },
  {
   "cell_type": "code",
   "execution_count": 6,
   "metadata": {},
   "outputs": [],
   "source": [
    "def get_links(ref):\n",
    "\n",
    "    req = requests.get(ref, headers=headers)\n",
    "    soup = BeautifulSoup(req.content, 'html.parser')\n",
    "    # print(soup)\n",
    "\n",
    "    all_links = [] #Линки на отзывы\n",
    "\n",
    "    #Сбор ссылок на все страницы\n",
    "    while True:\n",
    "        links = [i['href'] for i in soup.find_all('a', class_='review-title')] #Собираем ссылки на отзывы на этой странице\n",
    "        all_links.extend(links)\n",
    "\n",
    "        next_page = soup.find('a', class_='pager-item next tooltip-top') #Линк на следующую страницу с отзывами\n",
    "        if next_page:\n",
    "            req = requests.get('https://otzovik.com' + next_page['href'], headers=headers)\n",
    "            soup = BeautifulSoup(req.content, 'html.parser')\n",
    "        else:\n",
    "            break\n",
    "    print(f\"Получено {len(all_links)} ссылок\")\n",
    "    assert len(all_links) != 0\n",
    "    return all_links"
   ]
  },
  {
   "cell_type": "code",
   "execution_count": 7,
   "metadata": {},
   "outputs": [],
   "source": [
    "def get_data(all_links, df):\n",
    "    for n, link in enumerate(all_links):\n",
    "        if \"https://otzovik.com\" + link not in df['url'].values:\n",
    "            try:\n",
    "                df = pd.concat((df, pd.DataFrame(get_review_data(\"https://otzovik.com\" + link, company_id), index=[0])))\n",
    "                print(f\"Обработано {n} ссылок\", end=\"\\r\")\n",
    "            except Exception as e:\n",
    "                print(e)\n",
    "                break\n",
    "        \n",
    "    return df"
   ]
  },
  {
   "cell_type": "code",
   "execution_count": 59,
   "metadata": {},
   "outputs": [],
   "source": [
    "res_df = pd.read_csv(\"../data/raw/online_schools/otzovik.csv\", index_col=[0])\n",
    "# res_df = pd.DataFrame()\n",
    "# res_df['url'] = 0"
   ]
  },
  {
   "cell_type": "code",
   "execution_count": 9,
   "metadata": {},
   "outputs": [
    {
     "data": {
      "text/html": [
       "<div>\n",
       "<style scoped>\n",
       "    .dataframe tbody tr th:only-of-type {\n",
       "        vertical-align: middle;\n",
       "    }\n",
       "\n",
       "    .dataframe tbody tr th {\n",
       "        vertical-align: top;\n",
       "    }\n",
       "\n",
       "    .dataframe thead th {\n",
       "        text-align: right;\n",
       "    }\n",
       "</style>\n",
       "<table border=\"1\" class=\"dataframe\">\n",
       "  <thead>\n",
       "    <tr style=\"text-align: right;\">\n",
       "      <th></th>\n",
       "      <th>url</th>\n",
       "      <th>company</th>\n",
       "      <th>plus</th>\n",
       "      <th>minus</th>\n",
       "      <th>text</th>\n",
       "      <th>date</th>\n",
       "      <th>rating</th>\n",
       "      <th>user_name</th>\n",
       "    </tr>\n",
       "  </thead>\n",
       "  <tbody>\n",
       "    <tr>\n",
       "      <th>0</th>\n",
       "      <td>https://otzovik.com/review_9011559.html</td>\n",
       "      <td>Все отзывы о Курсы программирования Skillbox (...</td>\n",
       "      <td>Преподаватели, формат обучения, рассрочка</td>\n",
       "      <td>Цена</td>\n",
       "      <td>Я начинал учить Python с нуля самостоятельно. ...</td>\n",
       "      <td>2019-11-13</td>\n",
       "      <td>4</td>\n",
       "      <td>SerGeor</td>\n",
       "    </tr>\n",
       "    <tr>\n",
       "      <th>0</th>\n",
       "      <td>https://otzovik.com/review_8077932.html</td>\n",
       "      <td>Все отзывы о Курсы программирования Skillbox (...</td>\n",
       "      <td>Удобный график обучения, формат обучения, каче...</td>\n",
       "      <td>Иногда задерживается проверка заданий</td>\n",
       "      <td>Рисованием увлекаюсь с детства, но недавно под...</td>\n",
       "      <td>2019-04-19</td>\n",
       "      <td>4</td>\n",
       "      <td>MaryPovarkova</td>\n",
       "    </tr>\n",
       "    <tr>\n",
       "      <th>0</th>\n",
       "      <td>https://otzovik.com/review_6155102.html</td>\n",
       "      <td>Все отзывы о Курсы программирования Skillbox (...</td>\n",
       "      <td>учитывают ситуацию своих клиентов - готовы пой...</td>\n",
       "      <td>стоимость (без акции)</td>\n",
       "      <td>Оказавшись в неприятной ситуации связанной с т...</td>\n",
       "      <td>2018-03-05</td>\n",
       "      <td>4</td>\n",
       "      <td>bostut</td>\n",
       "    </tr>\n",
       "    <tr>\n",
       "      <th>0</th>\n",
       "      <td>https://otzovik.com/review_8613392.html</td>\n",
       "      <td>Все отзывы о Курсы программирования Skillbox (...</td>\n",
       "      <td>Качество подачи знаний, профессионализм курато...</td>\n",
       "      <td>Минусов не увидел</td>\n",
       "      <td>Курс рассчитан на 12 месяцев, я сейчас прошел ...</td>\n",
       "      <td>2019-08-14</td>\n",
       "      <td>5</td>\n",
       "      <td>AgVasnichev</td>\n",
       "    </tr>\n",
       "    <tr>\n",
       "      <th>0</th>\n",
       "      <td>https://otzovik.com/review_9089509.html</td>\n",
       "      <td>Все отзывы о Курсы программирования Skillbox (...</td>\n",
       "      <td>Хорошие учителя, достойные практики и фишки, о...</td>\n",
       "      <td>Некоторым курсы кажутся либо слишком легкими, ...</td>\n",
       "      <td>Решил изучать PHP с нуля до про в Скиллбокс из...</td>\n",
       "      <td>2019-11-29</td>\n",
       "      <td>5</td>\n",
       "      <td>Delon</td>\n",
       "    </tr>\n",
       "    <tr>\n",
       "      <th>...</th>\n",
       "      <td>...</td>\n",
       "      <td>...</td>\n",
       "      <td>...</td>\n",
       "      <td>...</td>\n",
       "      <td>...</td>\n",
       "      <td>...</td>\n",
       "      <td>...</td>\n",
       "      <td>...</td>\n",
       "    </tr>\n",
       "    <tr>\n",
       "      <th>0</th>\n",
       "      <td>https://otzovik.com/review_11745379.html</td>\n",
       "      <td>Все отзывы о Яндекс Практикум - сервис онлайн-...</td>\n",
       "      <td>удобная платформа, бесплатный пробный блок, бл...</td>\n",
       "      <td>баги в тренажере, местами сжатое и непонятное ...</td>\n",
       "      <td>Прохожу сейчас курс Python-разработчик, ближе ...</td>\n",
       "      <td>2021-04-05</td>\n",
       "      <td>3</td>\n",
       "      <td>sergey1580</td>\n",
       "    </tr>\n",
       "    <tr>\n",
       "      <th>0</th>\n",
       "      <td>https://otzovik.com/review_11744151.html</td>\n",
       "      <td>Все отзывы о Яндекс Практикум - сервис онлайн-...</td>\n",
       "      <td>много практики, можно самому строить свой граф...</td>\n",
       "      <td>есть темы, которым стоит уделить немного больш...</td>\n",
       "      <td>Из-за пандемии отрасль, в которой я работала п...</td>\n",
       "      <td>2021-04-05</td>\n",
       "      <td>4</td>\n",
       "      <td>Abeja</td>\n",
       "    </tr>\n",
       "    <tr>\n",
       "      <th>0</th>\n",
       "      <td>https://otzovik.com/review_11722772.html</td>\n",
       "      <td>Все отзывы о Яндекс Практикум - сервис онлайн-...</td>\n",
       "      <td>Интересная и насыщенная программа, затягивающи...</td>\n",
       "      <td>Нет такого.</td>\n",
       "      <td>Изначально выбирала между Нетологией и Яндекс ...</td>\n",
       "      <td>2021-04-01</td>\n",
       "      <td>5</td>\n",
       "      <td>Lizaveta1988</td>\n",
       "    </tr>\n",
       "    <tr>\n",
       "      <th>0</th>\n",
       "      <td>https://otzovik.com/review_10716732.html</td>\n",
       "      <td>Все отзывы о Яндекс Практикум - сервис онлайн-...</td>\n",
       "      <td>Теплый коллектив</td>\n",
       "      <td>Стоит немного реорганизовать обратную связь</td>\n",
       "      <td>На данный момент я еще прохожу курс от Яндекс....</td>\n",
       "      <td>2020-10-02</td>\n",
       "      <td>4</td>\n",
       "      <td>daha832</td>\n",
       "    </tr>\n",
       "    <tr>\n",
       "      <th>0</th>\n",
       "      <td>https://otzovik.com/review_10288567.html</td>\n",
       "      <td>Все отзывы о Яндекс Практикум - сервис онлайн-...</td>\n",
       "      <td>подача материала, поддержка 247,погружение в а...</td>\n",
       "      <td>почему я не узнала об этом раньше=)</td>\n",
       "      <td>Отзыв о учебе в ЯндексПрактикуме я хотела напи...</td>\n",
       "      <td>2020-07-02</td>\n",
       "      <td>5</td>\n",
       "      <td>christina0292</td>\n",
       "    </tr>\n",
       "  </tbody>\n",
       "</table>\n",
       "<p>2069 rows × 8 columns</p>\n",
       "</div>"
      ],
      "text/plain": [
       "                                         url  \\\n",
       "0    https://otzovik.com/review_9011559.html   \n",
       "0    https://otzovik.com/review_8077932.html   \n",
       "0    https://otzovik.com/review_6155102.html   \n",
       "0    https://otzovik.com/review_8613392.html   \n",
       "0    https://otzovik.com/review_9089509.html   \n",
       "..                                       ...   \n",
       "0   https://otzovik.com/review_11745379.html   \n",
       "0   https://otzovik.com/review_11744151.html   \n",
       "0   https://otzovik.com/review_11722772.html   \n",
       "0   https://otzovik.com/review_10716732.html   \n",
       "0   https://otzovik.com/review_10288567.html   \n",
       "\n",
       "                                              company  \\\n",
       "0   Все отзывы о Курсы программирования Skillbox (...   \n",
       "0   Все отзывы о Курсы программирования Skillbox (...   \n",
       "0   Все отзывы о Курсы программирования Skillbox (...   \n",
       "0   Все отзывы о Курсы программирования Skillbox (...   \n",
       "0   Все отзывы о Курсы программирования Skillbox (...   \n",
       "..                                                ...   \n",
       "0   Все отзывы о Яндекс Практикум - сервис онлайн-...   \n",
       "0   Все отзывы о Яндекс Практикум - сервис онлайн-...   \n",
       "0   Все отзывы о Яндекс Практикум - сервис онлайн-...   \n",
       "0   Все отзывы о Яндекс Практикум - сервис онлайн-...   \n",
       "0   Все отзывы о Яндекс Практикум - сервис онлайн-...   \n",
       "\n",
       "                                                 plus  \\\n",
       "0           Преподаватели, формат обучения, рассрочка   \n",
       "0   Удобный график обучения, формат обучения, каче...   \n",
       "0   учитывают ситуацию своих клиентов - готовы пой...   \n",
       "0   Качество подачи знаний, профессионализм курато...   \n",
       "0   Хорошие учителя, достойные практики и фишки, о...   \n",
       "..                                                ...   \n",
       "0   удобная платформа, бесплатный пробный блок, бл...   \n",
       "0   много практики, можно самому строить свой граф...   \n",
       "0   Интересная и насыщенная программа, затягивающи...   \n",
       "0                                    Теплый коллектив   \n",
       "0   подача материала, поддержка 247,погружение в а...   \n",
       "\n",
       "                                                minus  \\\n",
       "0                                                Цена   \n",
       "0               Иногда задерживается проверка заданий   \n",
       "0                               стоимость (без акции)   \n",
       "0                                   Минусов не увидел   \n",
       "0   Некоторым курсы кажутся либо слишком легкими, ...   \n",
       "..                                                ...   \n",
       "0   баги в тренажере, местами сжатое и непонятное ...   \n",
       "0   есть темы, которым стоит уделить немного больш...   \n",
       "0                                         Нет такого.   \n",
       "0         Стоит немного реорганизовать обратную связь   \n",
       "0                 почему я не узнала об этом раньше=)   \n",
       "\n",
       "                                                 text        date  rating  \\\n",
       "0   Я начинал учить Python с нуля самостоятельно. ...  2019-11-13       4   \n",
       "0   Рисованием увлекаюсь с детства, но недавно под...  2019-04-19       4   \n",
       "0   Оказавшись в неприятной ситуации связанной с т...  2018-03-05       4   \n",
       "0   Курс рассчитан на 12 месяцев, я сейчас прошел ...  2019-08-14       5   \n",
       "0   Решил изучать PHP с нуля до про в Скиллбокс из...  2019-11-29       5   \n",
       "..                                                ...         ...     ...   \n",
       "0   Прохожу сейчас курс Python-разработчик, ближе ...  2021-04-05       3   \n",
       "0   Из-за пандемии отрасль, в которой я работала п...  2021-04-05       4   \n",
       "0   Изначально выбирала между Нетологией и Яндекс ...  2021-04-01       5   \n",
       "0   На данный момент я еще прохожу курс от Яндекс....  2020-10-02       4   \n",
       "0   Отзыв о учебе в ЯндексПрактикуме я хотела напи...  2020-07-02       5   \n",
       "\n",
       "        user_name  \n",
       "0         SerGeor  \n",
       "0   MaryPovarkova  \n",
       "0          bostut  \n",
       "0     AgVasnichev  \n",
       "0           Delon  \n",
       "..            ...  \n",
       "0      sergey1580  \n",
       "0           Abeja  \n",
       "0    Lizaveta1988  \n",
       "0         daha832  \n",
       "0   christina0292  \n",
       "\n",
       "[2069 rows x 8 columns]"
      ]
     },
     "execution_count": 9,
     "metadata": {},
     "output_type": "execute_result"
    }
   ],
   "source": [
    "res_df"
   ]
  },
  {
   "cell_type": "code",
   "execution_count": 10,
   "metadata": {},
   "outputs": [
    {
     "name": "stdout",
     "output_type": "stream",
     "text": [
      "Обрабатываем ссылку https://otzovik.com/reviews/kursi_programmirovaniya_skillbox_russia_moscow/\n",
      "Получено 0 ссылок\n"
     ]
    },
    {
     "ename": "AssertionError",
     "evalue": "",
     "output_type": "error",
     "traceback": [
      "\u001b[0;31m---------------------------------------------------------------------------\u001b[0m",
      "\u001b[0;31mAssertionError\u001b[0m                            Traceback (most recent call last)",
      "\u001b[1;32m/media/ssv/SHARED1/VZO/notebooks/online_school.ipynb Ячейка 11\u001b[0m in \u001b[0;36m<cell line: 1>\u001b[0;34m()\u001b[0m\n\u001b[1;32m      <a href='vscode-notebook-cell:/media/ssv/SHARED1/VZO/notebooks/online_school.ipynb#X13sZmlsZQ%3D%3D?line=0'>1</a>\u001b[0m \u001b[39mfor\u001b[39;00m ref \u001b[39min\u001b[39;00m otzovik:\n\u001b[1;32m      <a href='vscode-notebook-cell:/media/ssv/SHARED1/VZO/notebooks/online_school.ipynb#X13sZmlsZQ%3D%3D?line=1'>2</a>\u001b[0m     \u001b[39mprint\u001b[39m(\u001b[39mf\u001b[39m\u001b[39m\"\u001b[39m\u001b[39mОбрабатываем ссылку \u001b[39m\u001b[39m{\u001b[39;00mref\u001b[39m}\u001b[39;00m\u001b[39m\"\u001b[39m)\n\u001b[0;32m----> <a href='vscode-notebook-cell:/media/ssv/SHARED1/VZO/notebooks/online_school.ipynb#X13sZmlsZQ%3D%3D?line=3'>4</a>\u001b[0m     all_links \u001b[39m=\u001b[39m get_links(ref)\n\u001b[1;32m      <a href='vscode-notebook-cell:/media/ssv/SHARED1/VZO/notebooks/online_school.ipynb#X13sZmlsZQ%3D%3D?line=4'>5</a>\u001b[0m     \u001b[39mfor\u001b[39;00m n, link \u001b[39min\u001b[39;00m \u001b[39menumerate\u001b[39m(all_links):\n\u001b[1;32m      <a href='vscode-notebook-cell:/media/ssv/SHARED1/VZO/notebooks/online_school.ipynb#X13sZmlsZQ%3D%3D?line=5'>6</a>\u001b[0m         \u001b[39mif\u001b[39;00m (\u001b[39m\"\u001b[39m\u001b[39mhttps://otzovik.com\u001b[39m\u001b[39m\"\u001b[39m \u001b[39m+\u001b[39m link) \u001b[39mnot\u001b[39;00m \u001b[39min\u001b[39;00m res_df[\u001b[39m'\u001b[39m\u001b[39murl\u001b[39m\u001b[39m'\u001b[39m]\u001b[39m.\u001b[39mvalues:\n",
      "\u001b[1;32m/media/ssv/SHARED1/VZO/notebooks/online_school.ipynb Ячейка 11\u001b[0m in \u001b[0;36mget_links\u001b[0;34m(ref)\u001b[0m\n\u001b[1;32m     <a href='vscode-notebook-cell:/media/ssv/SHARED1/VZO/notebooks/online_school.ipynb#X13sZmlsZQ%3D%3D?line=18'>19</a>\u001b[0m         \u001b[39mbreak\u001b[39;00m\n\u001b[1;32m     <a href='vscode-notebook-cell:/media/ssv/SHARED1/VZO/notebooks/online_school.ipynb#X13sZmlsZQ%3D%3D?line=19'>20</a>\u001b[0m \u001b[39mprint\u001b[39m(\u001b[39mf\u001b[39m\u001b[39m\"\u001b[39m\u001b[39mПолучено \u001b[39m\u001b[39m{\u001b[39;00m\u001b[39mlen\u001b[39m(all_links)\u001b[39m}\u001b[39;00m\u001b[39m ссылок\u001b[39m\u001b[39m\"\u001b[39m)\n\u001b[0;32m---> <a href='vscode-notebook-cell:/media/ssv/SHARED1/VZO/notebooks/online_school.ipynb#X13sZmlsZQ%3D%3D?line=20'>21</a>\u001b[0m \u001b[39massert\u001b[39;00m \u001b[39mlen\u001b[39m(all_links) \u001b[39m!=\u001b[39m \u001b[39m0\u001b[39m\n\u001b[1;32m     <a href='vscode-notebook-cell:/media/ssv/SHARED1/VZO/notebooks/online_school.ipynb#X13sZmlsZQ%3D%3D?line=21'>22</a>\u001b[0m \u001b[39mreturn\u001b[39;00m all_links\n",
      "\u001b[0;31mAssertionError\u001b[0m: "
     ]
    }
   ],
   "source": [
    "for ref in otzovik:\n",
    "    print(f\"Обрабатываем ссылку {ref}\")\n",
    "\n",
    "    all_links = get_links(ref)\n",
    "    for n, link in enumerate(all_links):\n",
    "        if (\"https://otzovik.com\" + link) not in res_df['url'].values:\n",
    "            try:\n",
    "                res_df = pd.concat((res_df, pd.DataFrame(get_review_data(\"https://otzovik.com\" + link), index=[0])))\n",
    "                print(f\"Обработано {n} ссылок\", end=\"\\r\")\n",
    "            except Exception as e:\n",
    "                print(e)\n",
    "                break\n",
    "    print(\"Done!\")"
   ]
  },
  {
   "cell_type": "code",
   "execution_count": null,
   "metadata": {},
   "outputs": [],
   "source": [
    "res_df.to_csv(\"../data/raw/online_schools/otzovik.csv\")"
   ]
  },
  {
   "cell_type": "code",
   "execution_count": 60,
   "metadata": {},
   "outputs": [
    {
     "data": {
      "text/plain": [
       "(2069, 8)"
      ]
     },
     "execution_count": 60,
     "metadata": {},
     "output_type": "execute_result"
    }
   ],
   "source": [
    "res_df.shape"
   ]
  },
  {
   "cell_type": "markdown",
   "metadata": {},
   "source": [
    "# `irecommend`"
   ]
  },
  {
   "cell_type": "code",
   "execution_count": 15,
   "metadata": {},
   "outputs": [],
   "source": [
    "headers_ = {\n",
    "    \"Accept\" : \"text/html,application/xhtml+xml,application/xml;q=0.9,image/avif,image/webp,*/*;q=0.8\",\n",
    "    \"Accept-Encoding\" : \"gzip, deflate, br\",\n",
    "    \"Accept-Language\" : \"ru-RU,ru;q=0.8,en-US;q=0.5,en;q=0.3\",\n",
    "    \"Connection\" : \"keep-alive\",\n",
    "    # \"Cookie\" : \"s_uid=16614820923153135; stats_u_a=lgejCkIr%2BgB9avMj9v1UDutit45MuksMvb7l8IKzrfJBoRlyTJLDS1fkEHoCwRfjpjn5OQ71evt2rlD%2FhKXXVDdKrOZB0%2BAoU%2BV232tE8hI%3D; ab_var=6; stats_s_a=s8dDbzogg0p9rPje0Yyp%2FQNfPaz7TlnBrxfjoSGsOJMJ7II%2FUeQYY9SHWOET6Vilgqjm6b7mjlfd6HSXG2IYYQh5kADJVG4aJjexWrOGIFEdBgeNpB9%2B%2BZfbHwogVwBF6LXBpZgL9Y03VexdG2jtKL3OZwTTsmc%2BqfnC6up%2BT9jcC6vVWrlbmVvA97A6c8rv; e=6413166; statsactivity=6; statstimer=804; v=7c\",\n",
    "    \"Host\" : \"irecommend.ru\",\n",
    "    \"User-Agent\" : \"Mozilla/5.0 (X11; Ubuntu; Linux x86_64; rv:101.0) Gecko/20100101 Firefox/101.0\"\n",
    "}"
   ]
  },
  {
   "cell_type": "code",
   "execution_count": 5,
   "metadata": {},
   "outputs": [],
   "source": [
    "from fake_useragent import UserAgent"
   ]
  },
  {
   "cell_type": "code",
   "execution_count": 14,
   "metadata": {},
   "outputs": [],
   "source": [
    "# ua = UserAgent()\n",
    "# headers_ = {\n",
    "#     'User-Agent': ua.chrome,\n",
    "#     'accept': 'application/json, text/javascript, */*; q=0.01',\n",
    "#     'content-type': 'application/x-www-form-urlencoded; charset=UTF-8',\n",
    "#     'origin': 'https://irecommend.ru'\n",
    "# }"
   ]
  },
  {
   "cell_type": "code",
   "execution_count": 13,
   "metadata": {},
   "outputs": [],
   "source": [
    "def parse_links_irecom(page, num):\n",
    "    \n",
    "    if num > 0:\n",
    "        ref_ = page + f\"?page={num}\"\n",
    "    else:\n",
    "        ref_ = page\n",
    "    _req = requests.get(ref_, headers=headers_)\n",
    "    _soup = BeautifulSoup(_req.content, 'html.parser')\n",
    "    page_links = []\n",
    "    for i in _soup.findAll('div', class_=\"reviewTitle\"):\n",
    "        try:\n",
    "            page_links.append(i.find(\"a\")['href'])\n",
    "        except:\n",
    "            pass\n",
    "    print(f\"Страница {num} всего {len(page_links)} ссылок\")\n",
    "    return page_links"
   ]
  },
  {
   "cell_type": "code",
   "execution_count": 12,
   "metadata": {},
   "outputs": [],
   "source": [
    "def get_links_irecom(link):\n",
    "    req = requests.get(link, headers=headers_)\n",
    "    soup = BeautifulSoup(req.content, 'html.parser')\n",
    "    _all_links = []\n",
    "    try:\n",
    "        number_pages = int(soup.find(\"li\",  class_=\"pager-last\").find(\"a\")['title'].split()[-1])\n",
    "    except:\n",
    "        number_pages = 1\n",
    "    for num_page in range(number_pages+1):\n",
    "        _all_links.extend(parse_links_irecom(link, num_page))\n",
    "    return set(_all_links)"
   ]
  },
  {
   "cell_type": "code",
   "execution_count": 61,
   "metadata": {},
   "outputs": [],
   "source": [
    "df_irecom = pd.read_csv(\"../data/raw/online_schools/irecommend.csv\", index_col=[0])\n",
    "# df_irecom = pd.DataFrame()\n",
    "# df_irecom['review_url'] = 0\n"
   ]
  },
  {
   "cell_type": "code",
   "execution_count": 11,
   "metadata": {},
   "outputs": [],
   "source": [
    "def get_review_data_irecom(url, proxy):\n",
    "    _r = requests.get(url, headers=headers_, proxies={'http': proxy, 'https': proxy}, timeout=1.5)\n",
    "    _soup = BeautifulSoup(_r.text)\n",
    "\n",
    "\n",
    "    review_text = _soup.find('div', {'itemprop': 'reviewBody'}).text\n",
    "\n",
    "    review_title = _soup.select('h2.reviewTitle a')[0].text\n",
    "\n",
    "    review_plus_list = _soup.select(\n",
    "        '#content > div.review-node > div.reviewBlock > div.ratio > div.plus > ul')\n",
    "    review_plus = \"\\n\".join(review_plus_list[0].stripped_strings) if len(review_plus_list) else ''\n",
    "\n",
    "    review_minus_list = _soup.select(\n",
    "        '#content > div.review-node > div.reviewBlock > div.ratio > div.minus > ul')\n",
    "    review_minus = \"\\n\".join(review_minus_list[0].stripped_strings) if len(review_minus_list) else ''\n",
    "\n",
    "    review_verdict_list = _soup.select(\n",
    "        '#content > div.review-node > div.reviewBlock > div.conclusion > span.verdict')\n",
    "    review_verdict = review_verdict_list[0].text if len(review_verdict_list) else ''\n",
    "\n",
    "    review_usage_experience_html = _soup.find(text='Опыт использования:')\n",
    "    review_usage_experience = review_usage_experience_html.findNext('div').contents[\n",
    "        0] if review_usage_experience_html else ''\n",
    "\n",
    "    review_cost_html = _soup.find(text='Стоимость:')\n",
    "    review_cost = review_cost_html.findNext('div').contents[0] if review_cost_html else ''\n",
    "\n",
    "    review_raiting = len(_soup.select(\n",
    "        '#content > div.review-node > div.reviewBlock > div.reviewHeader > div.authorBlock > div.text > div.starsRating > div > div > div.on'))\n",
    "\n",
    "    review_average_rating_list = _soup.select(\n",
    "        'div.rating > div.description > a > div > div > div.description > div > span.average-rating > span')\n",
    "    sleep(1)\n",
    "    review_average_rating = review_average_rating_list[0].text if len(review_average_rating_list) else ''\n",
    "\n",
    "    review_total_votes = _soup.find('span', {'class': 'total-votes'}).span.text\n",
    "\n",
    "    review_category_html = _soup.find(text=' Категория:')\n",
    "    review_category = review_category_html.findNext('a').contents[0] if review_category_html else ''\n",
    "\n",
    "    review_product_type_html = _soup.find(text=' Тип товаров:')\n",
    "    review_product_type = review_product_type_html.findNext('a').contents[0] if review_product_type_html else ''\n",
    "\n",
    "    review_user = _soup.find('strong', {'class': 'reviewer'}).a.text\n",
    "\n",
    "    review_user_url = _soup.find('a', {'title': 'Информация о пользователе.'}).get('href')\n",
    "    review_user_url_full = 'https://irecommend.ru' + review_user_url\n",
    "    # sleep(randint(2, 3))\n",
    "    # r_user = requests.get(review_user_url_full, headers=headers_)\n",
    "    # user_soup = BeautifulSoup(r_user.text)\n",
    "    # review_user_reviews_count_string_list = user_soup.select(\n",
    "    #     '#block-site-0 > div.content.text > div.breadcrumb > div > a')\n",
    "    # review_user_reviews_count_string = review_user_reviews_count_string_list[0].text if len(\n",
    "    #     review_user_reviews_count_string_list) else ''\n",
    "    # extract_ints = re.findall(r'\\d+', review_user_reviews_count_string)\n",
    "    # review_user_reviews_count = extract_ints[0]\n",
    "\n",
    "    result = {\n",
    "        'review_url': url,\n",
    "        'review_user': review_user,\n",
    "        'review_user_url': review_user_url_full,\n",
    "        # 'review_user_reviews_count': review_user_reviews_count,\n",
    "        'review_text': review_text,\n",
    "        'review_title': review_title,\n",
    "        'review_plus': review_plus,\n",
    "        'review_minus': review_minus,\n",
    "        'review_verdict': review_verdict,\n",
    "        'review_usage_experience': review_usage_experience,\n",
    "        'review_cost': review_cost,\n",
    "        'review_raiting': review_raiting,\n",
    "        'review_average_rating': review_average_rating,\n",
    "        'review_total_votes': review_total_votes,\n",
    "        'review_category': review_category,\n",
    "        'review_product_type': review_product_type\n",
    "    }\n",
    "    return result"
   ]
  },
  {
   "cell_type": "code",
   "execution_count": 30,
   "metadata": {},
   "outputs": [
    {
     "name": "stdout",
     "output_type": "stream",
     "text": [
      "Страница 0 всего 50 ссылок\n",
      "Страница 1 всего 13 ссылок\n",
      "Страница 2 всего 13 ссылок\n"
     ]
    },
    {
     "data": {
      "text/plain": [
       "57"
      ]
     },
     "execution_count": 30,
     "metadata": {},
     "output_type": "execute_result"
    }
   ],
   "source": [
    "_all_links = get_links_irecom(irecommend[4])\n",
    "len(_all_links)"
   ]
  },
  {
   "cell_type": "code",
   "execution_count": 10,
   "metadata": {},
   "outputs": [
    {
     "data": {
      "text/plain": [
       "['https://irecommend.ru/content/sait-skillbox-onlain-shkola',\n",
       " 'https://irecommend.ru/content/sait-netologiya',\n",
       " 'https://irecommend.ru/content/sait-geekbrains',\n",
       " 'https://irecommend.ru/content/sait-skillfactoryru',\n",
       " 'https://irecommend.ru/content/kompyuternaya-programma-yandeks-praktikum']"
      ]
     },
     "execution_count": 10,
     "metadata": {},
     "output_type": "execute_result"
    }
   ],
   "source": [
    "irecommend"
   ]
  },
  {
   "cell_type": "code",
   "execution_count": null,
   "metadata": {},
   "outputs": [],
   "source": [
    "skillbox_links = get_links_irecom(irecommend[0])\n",
    "print(len(skillbox_links))\n",
    "with open(\"../data/raw/online_schools/irecommend_skillbox_links.pickle\", \"wb\") as f:\n",
    "    pickle.dump(skillbox_links, f)"
   ]
  },
  {
   "cell_type": "code",
   "execution_count": 28,
   "metadata": {},
   "outputs": [],
   "source": [
    "# netologya_links = get_links_irecom(irecommend[1])\n",
    "len(netologya_links)\n",
    "with open(\"../data/raw/online_schools/irecommend_netologya_links.pickle\", \"wb\") as f:\n",
    "    pickle.dump(netologya_links, f)"
   ]
  },
  {
   "cell_type": "code",
   "execution_count": 31,
   "metadata": {},
   "outputs": [],
   "source": [
    "# _all_links = get_links_irecom(irecommend[2])\n",
    "geekbrains_links = _all_links.copy()\n",
    "with open(\"../data/raw/online_schools/irecommend_geekbrains_links.pickle\", \"wb\") as f:\n",
    "    pickle.dump(geekbrains_links, f)"
   ]
  },
  {
   "cell_type": "code",
   "execution_count": 21,
   "metadata": {},
   "outputs": [],
   "source": [
    "# _all_links = get_links_irecom(irecommend[3])\n",
    "skillfactory_links = _all_links.copy()\n",
    "with open(\"../data/raw/online_schools/irecommend_skillfactory_links.pickle\", \"wb\") as f:\n",
    "    pickle.dump(skillfactory_links, f)"
   ]
  },
  {
   "cell_type": "code",
   "execution_count": 32,
   "metadata": {},
   "outputs": [],
   "source": [
    "# _all_links = get_links_irecom(irecommend[4])\n",
    "ya_praktikum_links = _all_links.copy()\n",
    "with open(\"../data/raw/online_schools/irecommend_ya_praktikum_links.pickle\", \"wb\") as f:\n",
    "    pickle.dump(ya_praktikum_links, f)"
   ]
  },
  {
   "cell_type": "code",
   "execution_count": 33,
   "metadata": {},
   "outputs": [],
   "source": [
    "from itertools import cycle\n",
    "# proxies = pd.read_csv(\"../socks4.csv\", header=None)[0].tolist()\n",
    "proxies = pd.read_csv(\"../proxy.csv\", header=None)[0].tolist()\n",
    "proxy_pool = cycle(proxies)\n",
    "\n",
    "# print(proxies)\n",
    "proxy = next(proxy_pool)"
   ]
  },
  {
   "cell_type": "code",
   "execution_count": null,
   "metadata": {},
   "outputs": [],
   "source": [
    "for i in range(100):\n",
    "    try:\n",
    "        \n",
    "        for n, link in enumerate(_all_links):\n",
    "            if ('https://irecommend.ru' + link) not in df_irecom['review_url'].values:\n",
    "                proxy = next(proxy_pool)\n",
    "                try:\n",
    "                    df_irecom = pd.concat((df_irecom, pd.DataFrame(get_review_data_irecom('https://irecommend.ru' + link, proxy), index=[0])))\n",
    "                    print(f\"Обработано {n} ссылок\", end=\"\\r\")\n",
    "                except Exception as e:\n",
    "                    print(e)\n",
    "                    # break\n",
    "    except:\n",
    "        pass"
   ]
  },
  {
   "cell_type": "code",
   "execution_count": 36,
   "metadata": {},
   "outputs": [],
   "source": [
    "df_irecom.to_csv(\"../data/raw/online_schools/irecommend.csv\")"
   ]
  },
  {
   "cell_type": "code",
   "execution_count": 7,
   "metadata": {},
   "outputs": [
    {
     "data": {
      "text/plain": [
       "['https://irecommend.ru/content/sait-skillbox-onlain-shkola',\n",
       " 'https://irecommend.ru/content/sait-netologiya',\n",
       " 'https://irecommend.ru/content/sait-geekbrains',\n",
       " 'https://irecommend.ru/content/sait-skillfactoryru',\n",
       " 'https://irecommend.ru/content/kompyuternaya-programma-yandeks-praktikum']"
      ]
     },
     "execution_count": 7,
     "metadata": {},
     "output_type": "execute_result"
    }
   ],
   "source": [
    "irecommend"
   ]
  },
  {
   "cell_type": "markdown",
   "metadata": {},
   "source": [
    "# `mooc`"
   ]
  },
  {
   "cell_type": "code",
   "execution_count": 7,
   "metadata": {},
   "outputs": [
    {
     "data": {
      "text/plain": [
       "['https://mooc.ru/company/skillbox/reviews',\n",
       " 'https://mooc.ru/company/netology/reviews',\n",
       " 'https://mooc.ru/company/geekbrains/reviews',\n",
       " 'https://mooc.ru/company/skillfactory/reviews',\n",
       " 'https://mooc.ru/company/yandex/reviews']"
      ]
     },
     "execution_count": 7,
     "metadata": {},
     "output_type": "execute_result"
    }
   ],
   "source": [
    "mooc"
   ]
  },
  {
   "cell_type": "code",
   "execution_count": 21,
   "metadata": {},
   "outputs": [],
   "source": [
    "headers_ = {\n",
    "    \"Accept\" : \"text/html,application/xhtml+xml,application/xml;q=0.9,image/avif,image/webp,*/*;q=0.8\",\n",
    "    \"Accept-Encoding\" : \"gzip, deflate, br\",\n",
    "    \"Accept-Language\" : \"ru-RU,ru;q=0.8,en-US;q=0.5,en;q=0.3\",\n",
    "    \"Connection\" : \"keep-alive\",\n",
    "    # \"Cookie\" : \"s_uid=16614820923153135; stats_u_a=lgejCkIr%2BgB9avMj9v1UDutit45MuksMvb7l8IKzrfJBoRlyTJLDS1fkEHoCwRfjpjn5OQ71evt2rlD%2FhKXXVDdKrOZB0%2BAoU%2BV232tE8hI%3D; ab_var=6; stats_s_a=s8dDbzogg0p9rPje0Yyp%2FQNfPaz7TlnBrxfjoSGsOJMJ7II%2FUeQYY9SHWOET6Vilgqjm6b7mjlfd6HSXG2IYYQh5kADJVG4aJjexWrOGIFEdBgeNpB9%2B%2BZfbHwogVwBF6LXBpZgL9Y03VexdG2jtKL3OZwTTsmc%2BqfnC6up%2BT9jcC6vVWrlbmVvA97A6c8rv; e=6413166; statsactivity=6; statstimer=804; v=7c\",\n",
    "    # \"Host\" : \"irecommend.ru\",\n",
    "    \"User-Agent\" : \"Mozilla/5.0 (X11; Ubuntu; Linux x86_64; rv:101.0) Gecko/20100101 Firefox/101.0\"\n",
    "}"
   ]
  },
  {
   "cell_type": "code",
   "execution_count": 26,
   "metadata": {},
   "outputs": [],
   "source": [
    "def get_links_mooc(main_link):\n",
    "    _req = requests.get(main_link + \"?page=50\", headers=headers_)\n",
    "    _soup = BeautifulSoup(_req.content, 'html.parser')\n",
    "    num_pages = int(_soup.find(\"a\", class_=\"link-btn link-prev\")['href'].split(\"=\")[-1])+1\n",
    "    print(\"Всего страниц со ссылками \", num_pages)\n",
    "    answers = []\n",
    "    for i in range(1, num_pages):\n",
    "        print(f\"Обрабатываем страницу {i}\", end=\"\\r\")\n",
    "        req = requests.get(main_link + f\"?page={i}\", headers=headers_)\n",
    "        soup = BeautifulSoup(req.content, 'html.parser')\n",
    "        # print(soup)\n",
    "        text = str(soup.select(\"script\", {\"review\": \"reviewBody\"})[3]).split('\"@type\": \"Review\"')\n",
    "        # print(text)\n",
    "        for t in text[1:]:\n",
    "            text_item = t\n",
    "            text_item = text_item.replace(\"\\n\", \"\")\n",
    "            text_item = text_item.replace(\"\\r\", \"\")\n",
    "            text_item = text_item.replace('\"', \"\")\n",
    "            text_item = text_item.replace('}', \"\")\n",
    "            text_item = text_item.replace('{', \"\")\n",
    "            text_item = text_item.replace('        ,', \"\")\n",
    "            text_item = text_item.replace('         ]        </script>', \"\")\n",
    "            # print(text_item.split('reviewBody:')[1].strip())\n",
    "            answers.append(text_item.split('reviewBody:')[1].strip())\n",
    "        sleep(10)\n",
    "    return answers\n",
    "        "
   ]
  },
  {
   "cell_type": "code",
   "execution_count": 27,
   "metadata": {},
   "outputs": [
    {
     "name": "stdout",
     "output_type": "stream",
     "text": [
      "Всего страниц со ссылками  27\n",
      "Обрабатываем страницу 26\r"
     ]
    }
   ],
   "source": [
    "skillbox = get_links_mooc(mooc[0])"
   ]
  },
  {
   "cell_type": "code",
   "execution_count": 30,
   "metadata": {},
   "outputs": [],
   "source": [
    "skillbox = pd.DataFrame(data=skillbox, columns=['review'])\n"
   ]
  },
  {
   "cell_type": "code",
   "execution_count": 32,
   "metadata": {},
   "outputs": [
    {
     "data": {
      "text/html": [
       "<div>\n",
       "<style scoped>\n",
       "    .dataframe tbody tr th:only-of-type {\n",
       "        vertical-align: middle;\n",
       "    }\n",
       "\n",
       "    .dataframe tbody tr th {\n",
       "        vertical-align: top;\n",
       "    }\n",
       "\n",
       "    .dataframe thead th {\n",
       "        text-align: right;\n",
       "    }\n",
       "</style>\n",
       "<table border=\"1\" class=\"dataframe\">\n",
       "  <thead>\n",
       "    <tr style=\"text-align: right;\">\n",
       "      <th></th>\n",
       "      <th>review</th>\n",
       "      <th>company</th>\n",
       "    </tr>\n",
       "  </thead>\n",
       "  <tbody>\n",
       "    <tr>\n",
       "      <th>0</th>\n",
       "      <td>Хочу поделиться своим опытом обучения в Skillb...</td>\n",
       "      <td>skillbox</td>\n",
       "    </tr>\n",
       "    <tr>\n",
       "      <th>1</th>\n",
       "      <td>Я бесконечно благодарна создателям платформы з...</td>\n",
       "      <td>skillbox</td>\n",
       "    </tr>\n",
       "    <tr>\n",
       "      <th>2</th>\n",
       "      <td>Я довольно долго интересовалась сферой дизайна...</td>\n",
       "      <td>skillbox</td>\n",
       "    </tr>\n",
       "    <tr>\n",
       "      <th>3</th>\n",
       "      <td>Год назад сменила работу и пришла в сферу марк...</td>\n",
       "      <td>skillbox</td>\n",
       "    </tr>\n",
       "    <tr>\n",
       "      <th>4</th>\n",
       "      <td>Хочу оставить отзыв о прохождении в Skillbox к...</td>\n",
       "      <td>skillbox</td>\n",
       "    </tr>\n",
       "  </tbody>\n",
       "</table>\n",
       "</div>"
      ],
      "text/plain": [
       "                                              review   company\n",
       "0  Хочу поделиться своим опытом обучения в Skillb...  skillbox\n",
       "1  Я бесконечно благодарна создателям платформы з...  skillbox\n",
       "2  Я довольно долго интересовалась сферой дизайна...  skillbox\n",
       "3  Год назад сменила работу и пришла в сферу марк...  skillbox\n",
       "4  Хочу оставить отзыв о прохождении в Skillbox к...  skillbox"
      ]
     },
     "execution_count": 32,
     "metadata": {},
     "output_type": "execute_result"
    }
   ],
   "source": [
    "skillbox['company'] = 'skillbox'\n",
    "skillbox.head()"
   ]
  },
  {
   "cell_type": "code",
   "execution_count": 31,
   "metadata": {},
   "outputs": [
    {
     "name": "stdout",
     "output_type": "stream",
     "text": [
      "Всего страниц со ссылками  10\n",
      "Обрабатываем страницу 9\r"
     ]
    }
   ],
   "source": [
    "netology = get_links_mooc(mooc[1])"
   ]
  },
  {
   "cell_type": "code",
   "execution_count": 33,
   "metadata": {},
   "outputs": [
    {
     "data": {
      "text/html": [
       "<div>\n",
       "<style scoped>\n",
       "    .dataframe tbody tr th:only-of-type {\n",
       "        vertical-align: middle;\n",
       "    }\n",
       "\n",
       "    .dataframe tbody tr th {\n",
       "        vertical-align: top;\n",
       "    }\n",
       "\n",
       "    .dataframe thead th {\n",
       "        text-align: right;\n",
       "    }\n",
       "</style>\n",
       "<table border=\"1\" class=\"dataframe\">\n",
       "  <thead>\n",
       "    <tr style=\"text-align: right;\">\n",
       "      <th></th>\n",
       "      <th>review</th>\n",
       "      <th>company</th>\n",
       "    </tr>\n",
       "  </thead>\n",
       "  <tbody>\n",
       "    <tr>\n",
       "      <th>0</th>\n",
       "      <td>Прошёл курс «Бизнес-аналитик» с 0, т.к до этог...</td>\n",
       "      <td>netology</td>\n",
       "    </tr>\n",
       "    <tr>\n",
       "      <th>1</th>\n",
       "      <td>Прошёл курс «Бизнес-аналитик» с 0, т.к до этог...</td>\n",
       "      <td>netology</td>\n",
       "    </tr>\n",
       "    <tr>\n",
       "      <th>2</th>\n",
       "      <td>Я прошла курс Ландшафтного дизайна в нетологии...</td>\n",
       "      <td>netology</td>\n",
       "    </tr>\n",
       "    <tr>\n",
       "      <th>3</th>\n",
       "      <td>Всем привет!Хочу поделиться рассказом о своём ...</td>\n",
       "      <td>netology</td>\n",
       "    </tr>\n",
       "    <tr>\n",
       "      <th>4</th>\n",
       "      <td>Изучаю иллюстрацию и рисование с нуля. Очень у...</td>\n",
       "      <td>netology</td>\n",
       "    </tr>\n",
       "  </tbody>\n",
       "</table>\n",
       "</div>"
      ],
      "text/plain": [
       "                                              review   company\n",
       "0  Прошёл курс «Бизнес-аналитик» с 0, т.к до этог...  netology\n",
       "1  Прошёл курс «Бизнес-аналитик» с 0, т.к до этог...  netology\n",
       "2  Я прошла курс Ландшафтного дизайна в нетологии...  netology\n",
       "3  Всем привет!Хочу поделиться рассказом о своём ...  netology\n",
       "4  Изучаю иллюстрацию и рисование с нуля. Очень у...  netology"
      ]
     },
     "execution_count": 33,
     "metadata": {},
     "output_type": "execute_result"
    }
   ],
   "source": [
    "netology = pd.DataFrame(data=netology, columns=['review'])\n",
    "netology['company'] = 'netology'\n",
    "netology.head()"
   ]
  },
  {
   "cell_type": "code",
   "execution_count": 34,
   "metadata": {},
   "outputs": [
    {
     "name": "stdout",
     "output_type": "stream",
     "text": [
      "Всего страниц со ссылками  33\n",
      "Обрабатываем страницу 32\r"
     ]
    }
   ],
   "source": [
    "geekbrains = get_links_mooc(mooc[2])"
   ]
  },
  {
   "cell_type": "code",
   "execution_count": 35,
   "metadata": {},
   "outputs": [
    {
     "data": {
      "text/html": [
       "<div>\n",
       "<style scoped>\n",
       "    .dataframe tbody tr th:only-of-type {\n",
       "        vertical-align: middle;\n",
       "    }\n",
       "\n",
       "    .dataframe tbody tr th {\n",
       "        vertical-align: top;\n",
       "    }\n",
       "\n",
       "    .dataframe thead th {\n",
       "        text-align: right;\n",
       "    }\n",
       "</style>\n",
       "<table border=\"1\" class=\"dataframe\">\n",
       "  <thead>\n",
       "    <tr style=\"text-align: right;\">\n",
       "      <th></th>\n",
       "      <th>review</th>\n",
       "      <th>company</th>\n",
       "    </tr>\n",
       "  </thead>\n",
       "  <tbody>\n",
       "    <tr>\n",
       "      <th>0</th>\n",
       "      <td>Моя дочь 9 лет занималась 4 месяца на онлайн-к...</td>\n",
       "      <td>geekbrains</td>\n",
       "    </tr>\n",
       "    <tr>\n",
       "      <th>1</th>\n",
       "      <td>Знакомство с прфессией состоялось</td>\n",
       "      <td>geekbrains</td>\n",
       "    </tr>\n",
       "    <tr>\n",
       "      <th>2</th>\n",
       "      <td>Мне очень нравится форма подачи, обучение дает...</td>\n",
       "      <td>geekbrains</td>\n",
       "    </tr>\n",
       "    <tr>\n",
       "      <th>3</th>\n",
       "      <td>Современный и интересный формат образования.</td>\n",
       "      <td>geekbrains</td>\n",
       "    </tr>\n",
       "    <tr>\n",
       "      <th>4</th>\n",
       "      <td>Всё зависит от самого человека. Конечно, снача...</td>\n",
       "      <td>geekbrains</td>\n",
       "    </tr>\n",
       "  </tbody>\n",
       "</table>\n",
       "</div>"
      ],
      "text/plain": [
       "                                              review     company\n",
       "0  Моя дочь 9 лет занималась 4 месяца на онлайн-к...  geekbrains\n",
       "1                  Знакомство с прфессией состоялось  geekbrains\n",
       "2  Мне очень нравится форма подачи, обучение дает...  geekbrains\n",
       "3       Современный и интересный формат образования.  geekbrains\n",
       "4  Всё зависит от самого человека. Конечно, снача...  geekbrains"
      ]
     },
     "execution_count": 35,
     "metadata": {},
     "output_type": "execute_result"
    }
   ],
   "source": [
    "geekbrains = pd.DataFrame(data=geekbrains, columns=['review'])\n",
    "geekbrains['company'] = 'geekbrains'\n",
    "geekbrains.head()"
   ]
  },
  {
   "cell_type": "code",
   "execution_count": 36,
   "metadata": {},
   "outputs": [
    {
     "name": "stdout",
     "output_type": "stream",
     "text": [
      "Всего страниц со ссылками  9\n",
      "Обрабатываем страницу 8\r"
     ]
    }
   ],
   "source": [
    "skillfactory = get_links_mooc(mooc[3])"
   ]
  },
  {
   "cell_type": "code",
   "execution_count": 37,
   "metadata": {},
   "outputs": [
    {
     "data": {
      "text/html": [
       "<div>\n",
       "<style scoped>\n",
       "    .dataframe tbody tr th:only-of-type {\n",
       "        vertical-align: middle;\n",
       "    }\n",
       "\n",
       "    .dataframe tbody tr th {\n",
       "        vertical-align: top;\n",
       "    }\n",
       "\n",
       "    .dataframe thead th {\n",
       "        text-align: right;\n",
       "    }\n",
       "</style>\n",
       "<table border=\"1\" class=\"dataframe\">\n",
       "  <thead>\n",
       "    <tr style=\"text-align: right;\">\n",
       "      <th></th>\n",
       "      <th>review</th>\n",
       "      <th>company</th>\n",
       "    </tr>\n",
       "  </thead>\n",
       "  <tbody>\n",
       "    <tr>\n",
       "      <th>0</th>\n",
       "      <td>Все неплохо организовано, На платформе сразу в...</td>\n",
       "      <td>skillfactory</td>\n",
       "    </tr>\n",
       "    <tr>\n",
       "      <th>1</th>\n",
       "      <td>Всем привет!С июня месяца начал заниматься на ...</td>\n",
       "      <td>skillfactory</td>\n",
       "    </tr>\n",
       "    <tr>\n",
       "      <th>2</th>\n",
       "      <td>Я главный инженер производственного предприяти...</td>\n",
       "      <td>skillfactory</td>\n",
       "    </tr>\n",
       "    <tr>\n",
       "      <th>3</th>\n",
       "      <td>Выбрала курсы дата аналитики, потому что хочу ...</td>\n",
       "      <td>skillfactory</td>\n",
       "    </tr>\n",
       "    <tr>\n",
       "      <th>4</th>\n",
       "      <td>Skillfactory - это действительно отличный прод...</td>\n",
       "      <td>skillfactory</td>\n",
       "    </tr>\n",
       "  </tbody>\n",
       "</table>\n",
       "</div>"
      ],
      "text/plain": [
       "                                              review       company\n",
       "0  Все неплохо организовано, На платформе сразу в...  skillfactory\n",
       "1  Всем привет!С июня месяца начал заниматься на ...  skillfactory\n",
       "2  Я главный инженер производственного предприяти...  skillfactory\n",
       "3  Выбрала курсы дата аналитики, потому что хочу ...  skillfactory\n",
       "4  Skillfactory - это действительно отличный прод...  skillfactory"
      ]
     },
     "execution_count": 37,
     "metadata": {},
     "output_type": "execute_result"
    }
   ],
   "source": [
    "skillfactory = pd.DataFrame(data=skillfactory, columns=['review'])\n",
    "skillfactory['company'] = 'skillfactory'\n",
    "skillfactory.head()"
   ]
  },
  {
   "cell_type": "code",
   "execution_count": 38,
   "metadata": {},
   "outputs": [
    {
     "name": "stdout",
     "output_type": "stream",
     "text": [
      "Всего страниц со ссылками  13\n",
      "Обрабатываем страницу 12\r"
     ]
    }
   ],
   "source": [
    "yandex = get_links_mooc(mooc[4])"
   ]
  },
  {
   "cell_type": "code",
   "execution_count": 39,
   "metadata": {},
   "outputs": [
    {
     "data": {
      "text/html": [
       "<div>\n",
       "<style scoped>\n",
       "    .dataframe tbody tr th:only-of-type {\n",
       "        vertical-align: middle;\n",
       "    }\n",
       "\n",
       "    .dataframe tbody tr th {\n",
       "        vertical-align: top;\n",
       "    }\n",
       "\n",
       "    .dataframe thead th {\n",
       "        text-align: right;\n",
       "    }\n",
       "</style>\n",
       "<table border=\"1\" class=\"dataframe\">\n",
       "  <thead>\n",
       "    <tr style=\"text-align: right;\">\n",
       "      <th></th>\n",
       "      <th>review</th>\n",
       "      <th>company</th>\n",
       "    </tr>\n",
       "  </thead>\n",
       "  <tbody>\n",
       "    <tr>\n",
       "      <th>0</th>\n",
       "      <td>В первую очередь хочется сообщить, что лично у...</td>\n",
       "      <td>yandex</td>\n",
       "    </tr>\n",
       "    <tr>\n",
       "      <th>1</th>\n",
       "      <td>Привет всем!Проходил курс от Яндекс практикума...</td>\n",
       "      <td>yandex</td>\n",
       "    </tr>\n",
       "    <tr>\n",
       "      <th>2</th>\n",
       "      <td>Я закончила курс по тестированию.Через 2 месяц...</td>\n",
       "      <td>yandex</td>\n",
       "    </tr>\n",
       "    <tr>\n",
       "      <th>3</th>\n",
       "      <td>Я закончила курс интернет-маркетолога, который...</td>\n",
       "      <td>yandex</td>\n",
       "    </tr>\n",
       "    <tr>\n",
       "      <th>4</th>\n",
       "      <td>ДОСТОИНСТВА: формат, практические задания, удо...</td>\n",
       "      <td>yandex</td>\n",
       "    </tr>\n",
       "  </tbody>\n",
       "</table>\n",
       "</div>"
      ],
      "text/plain": [
       "                                              review company\n",
       "0  В первую очередь хочется сообщить, что лично у...  yandex\n",
       "1  Привет всем!Проходил курс от Яндекс практикума...  yandex\n",
       "2  Я закончила курс по тестированию.Через 2 месяц...  yandex\n",
       "3  Я закончила курс интернет-маркетолога, который...  yandex\n",
       "4  ДОСТОИНСТВА: формат, практические задания, удо...  yandex"
      ]
     },
     "execution_count": 39,
     "metadata": {},
     "output_type": "execute_result"
    }
   ],
   "source": [
    "yandex = pd.DataFrame(data=yandex, columns=['review'])\n",
    "yandex['company'] = 'yandex'\n",
    "yandex.head()"
   ]
  },
  {
   "cell_type": "code",
   "execution_count": 41,
   "metadata": {},
   "outputs": [],
   "source": [
    "mooc_df = pd.concat((skillbox, netology))\n",
    "mooc_df = pd.concat((mooc_df, geekbrains))\n",
    "mooc_df = pd.concat((mooc_df, skillfactory))\n",
    "mooc_df = pd.concat((mooc_df, yandex))\n"
   ]
  },
  {
   "cell_type": "code",
   "execution_count": 45,
   "metadata": {},
   "outputs": [],
   "source": [
    "mooc_df = mooc_df.drop_duplicates()"
   ]
  },
  {
   "cell_type": "code",
   "execution_count": 46,
   "metadata": {},
   "outputs": [],
   "source": [
    "mooc_df.to_csv(\"../data/raw/online_schools/mooc.csv\")"
   ]
  },
  {
   "cell_type": "markdown",
   "metadata": {},
   "source": [
    "# `yandex`"
   ]
  },
  {
   "cell_type": "code",
   "execution_count": 51,
   "metadata": {},
   "outputs": [
    {
     "data": {
      "text/plain": [
       "['https://yandex.ru/maps/org/skillbox/4275407173/reviews/?ll=37.607031%2C55.727789&z=14',\n",
       " 'https://yandex.ru/maps/org/netologiya/205031471256/reviews/?ll=37.624381%2C55.704101&z=14',\n",
       " 'https://yandex.ru/maps/org/geekbrains/1402263817/reviews/?ll=37.536922%2C55.796562&z=15',\n",
       " 'https://yandex.ru/maps/org/skillfactory/237135461560/reviews/?ll=37.622473%2C55.772409&z=14']"
      ]
     },
     "execution_count": 51,
     "metadata": {},
     "output_type": "execute_result"
    }
   ],
   "source": [
    "yandex"
   ]
  },
  {
   "cell_type": "code",
   "execution_count": 1,
   "metadata": {},
   "outputs": [],
   "source": [
    "import time\n",
    "\n",
    "from selenium import webdriver\n",
    "from selenium.webdriver.common.by import By\n",
    "from selenium.webdriver.common.keys import Keys\n",
    "from selenium.webdriver.chrome.service import Service\n",
    "from selenium.webdriver.support.ui import WebDriverWait\n",
    "\n",
    "from bs4 import BeautifulSoup as bs"
   ]
  },
  {
   "cell_type": "code",
   "execution_count": 3,
   "metadata": {},
   "outputs": [],
   "source": [
    "# driver = webdriver.Firefox()"
   ]
  },
  {
   "cell_type": "markdown",
   "metadata": {},
   "source": [
    "# `ALL`"
   ]
  },
  {
   "cell_type": "code",
   "execution_count": 65,
   "metadata": {},
   "outputs": [],
   "source": [
    "otzivik_df = pd.read_csv(\"../data/raw/online_schools/otzovik.csv\", index_col=[0])\n",
    "irecom_df = pd.read_csv(\"../data/raw/online_schools/irecommend.csv\", index_col=[0])\n",
    "mooc_df = pd.read_csv(\"../data/raw/online_schools/mooc.csv\", index_col=[0])"
   ]
  },
  {
   "cell_type": "code",
   "execution_count": 66,
   "metadata": {},
   "outputs": [],
   "source": [
    "with open(\"../data/raw/online_schools/irecommend_skillbox_links.pickle\", \"rb\") as f:\n",
    "    skillbox_links = pickle.load(f)\n",
    "with open(\"../data/raw/online_schools/irecommend_netologya_links.pickle\", \"rb\") as f:\n",
    "    netologya_links = pickle.load(f)\n",
    "with open(\"../data/raw/online_schools/irecommend_geekbrains_links.pickle\", \"rb\") as f:\n",
    "    geekbrains_links = pickle.load(f)\n",
    "with open(\"../data/raw/online_schools/irecommend_skillfactory_links.pickle\", \"rb\") as f:\n",
    "    skillfactory_links = pickle.load(f)\n",
    "with open(\"../data/raw/online_schools/irecommend_ya_praktikum_links.pickle\", \"rb\") as f:\n",
    "    ya_praktikum_links = pickle.load(f)\n"
   ]
  },
  {
   "cell_type": "code",
   "execution_count": 67,
   "metadata": {},
   "outputs": [],
   "source": [
    "skillbox_links = [\"https://irecommend.ru\" + i for i in skillbox_links]\n",
    "netologya_links = [\"https://irecommend.ru\" + i for i in netologya_links]\n",
    "geekbrains_links = [\"https://irecommend.ru\" + i for i in geekbrains_links]\n",
    "skillfactory_links = [\"https://irecommend.ru\" + i for i in skillfactory_links]\n",
    "ya_praktikum_links = [\"https://irecommend.ru\" + i for i in ya_praktikum_links]"
   ]
  },
  {
   "cell_type": "code",
   "execution_count": 68,
   "metadata": {},
   "outputs": [],
   "source": [
    "def get_company_name_irecom(skillbox_links, netologya_links, geekbrains_links, skillfactory_links, ya_praktikum_links, link):\n",
    "    if link in skillbox_links:\n",
    "        return \"skillbox\"\n",
    "    elif link in netologya_links:\n",
    "        return \"netology\"\n",
    "    elif link in geekbrains_links:\n",
    "        return \"geekbrains\"\n",
    "    elif link in skillfactory_links:\n",
    "        return \"skillfactory\"\n",
    "    elif link in ya_praktikum_links:\n",
    "        return \"yandex\""
   ]
  },
  {
   "cell_type": "code",
   "execution_count": 69,
   "metadata": {},
   "outputs": [],
   "source": [
    "irecom_df['company'] = irecom_df['review_url'].apply(lambda x: get_company_name_irecom(skillbox_links, netologya_links, geekbrains_links, skillfactory_links, ya_praktikum_links, x))"
   ]
  },
  {
   "cell_type": "code",
   "execution_count": 70,
   "metadata": {},
   "outputs": [],
   "source": [
    "otzivik_df['company_name'] = otzivik_df['company']"
   ]
  },
  {
   "cell_type": "code",
   "execution_count": 71,
   "metadata": {},
   "outputs": [],
   "source": [
    "def get_company_name_otzovik(name):\n",
    "    if 'Skillbox' in name:\n",
    "        return \"skillbox\"\n",
    "    elif 'Нетология' in name:\n",
    "        return 'netology'\n",
    "    elif \"Geekbrains\" in name:\n",
    "        return \"geekbrains\"\n",
    "    elif \"SkillFactory\" in name:\n",
    "        return \"skillfactory\"\n",
    "    elif \"Яндекс\" in name:\n",
    "        return \"yandex\""
   ]
  },
  {
   "cell_type": "code",
   "execution_count": 72,
   "metadata": {},
   "outputs": [],
   "source": [
    "otzivik_df['company'] = otzivik_df['company_name'].apply(get_company_name_otzovik)"
   ]
  },
  {
   "cell_type": "code",
   "execution_count": 73,
   "metadata": {},
   "outputs": [],
   "source": [
    "otzivik_df['full_text'] = otzivik_df['plus'] + ' ' + otzivik_df['minus'] + ' ' + otzivik_df['text']"
   ]
  },
  {
   "cell_type": "code",
   "execution_count": 74,
   "metadata": {},
   "outputs": [],
   "source": [
    "irecom_df['full_text'] = irecom_df['review_plus'] + ' ' + irecom_df['review_minus'] + ' ' + irecom_df['review_text']"
   ]
  },
  {
   "cell_type": "code",
   "execution_count": 89,
   "metadata": {},
   "outputs": [],
   "source": [
    "from stop_words import get_stop_words\n",
    "from string import punctuation\n",
    "from pymorphy2 import MorphAnalyzer\n",
    "import jamspell\n",
    "from tqdm import tqdm\n",
    "from nltk.tokenize import word_tokenize\n",
    "from nltk.util import ngrams\n",
    "import collections\n",
    "\n",
    "corrector = jamspell.TSpellCorrector()\n",
    "corrector.LoadLangModel('../ru_small.bin')\n",
    "tqdm.pandas()"
   ]
  },
  {
   "cell_type": "code",
   "execution_count": 76,
   "metadata": {},
   "outputs": [],
   "source": [
    "exclude = set(punctuation)\n",
    "sw = set(get_stop_words(\"ru\"))\n",
    "morpher = MorphAnalyzer()"
   ]
  },
  {
   "cell_type": "code",
   "execution_count": 77,
   "metadata": {},
   "outputs": [],
   "source": [
    "def preprocess_text(txt):\n",
    "    txt = str(txt)\n",
    "    txt = corrector.FixFragment(txt)\n",
    "    txt = \"\".join(c for c in txt if c not in exclude)\n",
    "    txt = txt.lower()\n",
    "    txt = re.sub('[^а-яА-Я]', ' ', txt)\n",
    "    txt = re.sub(\"/sне \", \"не\", txt)\n",
    "    txt = re.sub(\"за м\", \"займ\", txt)\n",
    "    txt = re.sub(\"заем\", \"займ\", txt)\n",
    "    txt = re.sub(\" вс  \", \" всё\", txt)\n",
    "    txt = [morpher.parse(word)[0].normal_form for word in txt.split() if word not in sw]\n",
    "    # txt = re.sub(' заесть ', ' займ ', txt)\n",
    "    return \" \".join(txt)"
   ]
  },
  {
   "cell_type": "code",
   "execution_count": 80,
   "metadata": {},
   "outputs": [
    {
     "data": {
      "text/html": [
       "<div>\n",
       "<style scoped>\n",
       "    .dataframe tbody tr th:only-of-type {\n",
       "        vertical-align: middle;\n",
       "    }\n",
       "\n",
       "    .dataframe tbody tr th {\n",
       "        vertical-align: top;\n",
       "    }\n",
       "\n",
       "    .dataframe thead th {\n",
       "        text-align: right;\n",
       "    }\n",
       "</style>\n",
       "<table border=\"1\" class=\"dataframe\">\n",
       "  <thead>\n",
       "    <tr style=\"text-align: right;\">\n",
       "      <th></th>\n",
       "      <th>full_text</th>\n",
       "      <th>company</th>\n",
       "    </tr>\n",
       "  </thead>\n",
       "  <tbody>\n",
       "    <tr>\n",
       "      <th>0</th>\n",
       "      <td>Преподаватели, формат обучения, рассрочка Цена...</td>\n",
       "      <td>skillbox</td>\n",
       "    </tr>\n",
       "  </tbody>\n",
       "</table>\n",
       "</div>"
      ],
      "text/plain": [
       "                                           full_text   company\n",
       "0  Преподаватели, формат обучения, рассрочка Цена...  skillbox"
      ]
     },
     "execution_count": 80,
     "metadata": {},
     "output_type": "execute_result"
    }
   ],
   "source": [
    "otzivik_df[['full_text', 'company']].head(1)"
   ]
  },
  {
   "cell_type": "code",
   "execution_count": 81,
   "metadata": {},
   "outputs": [
    {
     "data": {
      "text/html": [
       "<div>\n",
       "<style scoped>\n",
       "    .dataframe tbody tr th:only-of-type {\n",
       "        vertical-align: middle;\n",
       "    }\n",
       "\n",
       "    .dataframe tbody tr th {\n",
       "        vertical-align: top;\n",
       "    }\n",
       "\n",
       "    .dataframe thead th {\n",
       "        text-align: right;\n",
       "    }\n",
       "</style>\n",
       "<table border=\"1\" class=\"dataframe\">\n",
       "  <thead>\n",
       "    <tr style=\"text-align: right;\">\n",
       "      <th></th>\n",
       "      <th>full_text</th>\n",
       "      <th>company</th>\n",
       "    </tr>\n",
       "  </thead>\n",
       "  <tbody>\n",
       "    <tr>\n",
       "      <th>0</th>\n",
       "      <td>Есть бесплатные вводные занятия\\nЕсть ознакоми...</td>\n",
       "      <td>skillbox</td>\n",
       "    </tr>\n",
       "  </tbody>\n",
       "</table>\n",
       "</div>"
      ],
      "text/plain": [
       "                                           full_text   company\n",
       "0  Есть бесплатные вводные занятия\\nЕсть ознакоми...  skillbox"
      ]
     },
     "execution_count": 81,
     "metadata": {},
     "output_type": "execute_result"
    }
   ],
   "source": [
    "irecom_df[['full_text', 'company']].head(1)"
   ]
  },
  {
   "cell_type": "code",
   "execution_count": 86,
   "metadata": {},
   "outputs": [],
   "source": [
    "mooc_df.rename(columns={'review' : 'full_text'}, inplace=True)"
   ]
  },
  {
   "cell_type": "code",
   "execution_count": 87,
   "metadata": {},
   "outputs": [
    {
     "data": {
      "text/html": [
       "<div>\n",
       "<style scoped>\n",
       "    .dataframe tbody tr th:only-of-type {\n",
       "        vertical-align: middle;\n",
       "    }\n",
       "\n",
       "    .dataframe tbody tr th {\n",
       "        vertical-align: top;\n",
       "    }\n",
       "\n",
       "    .dataframe thead th {\n",
       "        text-align: right;\n",
       "    }\n",
       "</style>\n",
       "<table border=\"1\" class=\"dataframe\">\n",
       "  <thead>\n",
       "    <tr style=\"text-align: right;\">\n",
       "      <th></th>\n",
       "      <th>full_text</th>\n",
       "      <th>company</th>\n",
       "    </tr>\n",
       "  </thead>\n",
       "  <tbody>\n",
       "    <tr>\n",
       "      <th>0</th>\n",
       "      <td>Преподаватели, формат обучения, рассрочка Цена...</td>\n",
       "      <td>skillbox</td>\n",
       "    </tr>\n",
       "    <tr>\n",
       "      <th>0</th>\n",
       "      <td>Удобный график обучения, формат обучения, каче...</td>\n",
       "      <td>skillbox</td>\n",
       "    </tr>\n",
       "    <tr>\n",
       "      <th>0</th>\n",
       "      <td>учитывают ситуацию своих клиентов - готовы пой...</td>\n",
       "      <td>skillbox</td>\n",
       "    </tr>\n",
       "    <tr>\n",
       "      <th>0</th>\n",
       "      <td>Качество подачи знаний, профессионализм курато...</td>\n",
       "      <td>skillbox</td>\n",
       "    </tr>\n",
       "    <tr>\n",
       "      <th>0</th>\n",
       "      <td>Хорошие учителя, достойные практики и фишки, о...</td>\n",
       "      <td>skillbox</td>\n",
       "    </tr>\n",
       "    <tr>\n",
       "      <th>...</th>\n",
       "      <td>...</td>\n",
       "      <td>...</td>\n",
       "    </tr>\n",
       "    <tr>\n",
       "      <th>355</th>\n",
       "      <td>Аналитика данных — очень интересная специально...</td>\n",
       "      <td>yandex</td>\n",
       "    </tr>\n",
       "    <tr>\n",
       "      <th>356</th>\n",
       "      <td>Достоинства: хороший тренажер, много знаний по...</td>\n",
       "      <td>yandex</td>\n",
       "    </tr>\n",
       "    <tr>\n",
       "      <th>357</th>\n",
       "      <td>Открыла для себя очень много нового в IT сфере...</td>\n",
       "      <td>yandex</td>\n",
       "    </tr>\n",
       "    <tr>\n",
       "      <th>358</th>\n",
       "      <td>Практикум дает реальную возможность добиться в...</td>\n",
       "      <td>yandex</td>\n",
       "    </tr>\n",
       "    <tr>\n",
       "      <th>359</th>\n",
       "      <td>Достоинства: Удобно и понятно Недостатки: Не з...</td>\n",
       "      <td>yandex</td>\n",
       "    </tr>\n",
       "  </tbody>\n",
       "</table>\n",
       "<p>5068 rows × 2 columns</p>\n",
       "</div>"
      ],
      "text/plain": [
       "                                             full_text   company\n",
       "0    Преподаватели, формат обучения, рассрочка Цена...  skillbox\n",
       "0    Удобный график обучения, формат обучения, каче...  skillbox\n",
       "0    учитывают ситуацию своих клиентов - готовы пой...  skillbox\n",
       "0    Качество подачи знаний, профессионализм курато...  skillbox\n",
       "0    Хорошие учителя, достойные практики и фишки, о...  skillbox\n",
       "..                                                 ...       ...\n",
       "355  Аналитика данных — очень интересная специально...    yandex\n",
       "356  Достоинства: хороший тренажер, много знаний по...    yandex\n",
       "357  Открыла для себя очень много нового в IT сфере...    yandex\n",
       "358  Практикум дает реальную возможность добиться в...    yandex\n",
       "359  Достоинства: Удобно и понятно Недостатки: Не з...    yandex\n",
       "\n",
       "[5068 rows x 2 columns]"
      ]
     },
     "execution_count": 87,
     "metadata": {},
     "output_type": "execute_result"
    }
   ],
   "source": [
    "result_df = pd.concat((otzivik_df[['full_text', 'company']], irecom_df[['full_text', 'company']]))\n",
    "result_df = pd.concat((result_df, mooc_df))\n",
    "result_df"
   ]
  },
  {
   "cell_type": "code",
   "execution_count": 88,
   "metadata": {},
   "outputs": [
    {
     "name": "stderr",
     "output_type": "stream",
     "text": [
      "100%|██████████| 5068/5068 [04:26<00:00, 19.01it/s]\n"
     ]
    }
   ],
   "source": [
    "result_df['text'] = result_df['full_text'].progress_apply(preprocess_text)"
   ]
  },
  {
   "cell_type": "code",
   "execution_count": 98,
   "metadata": {},
   "outputs": [],
   "source": [
    "result_df.drop_duplicates(subset=['text'], inplace=True)"
   ]
  },
  {
   "cell_type": "code",
   "execution_count": 99,
   "metadata": {},
   "outputs": [
    {
     "data": {
      "text/plain": [
       "(4891, 3)"
      ]
     },
     "execution_count": 99,
     "metadata": {},
     "output_type": "execute_result"
    }
   ],
   "source": [
    "result_df.shape"
   ]
  },
  {
   "cell_type": "code",
   "execution_count": 100,
   "metadata": {},
   "outputs": [],
   "source": [
    "def get_ngrams(text, n):\n",
    "    n_grams = ngrams(word_tokenize(\" \".join(text)), n)\n",
    "    return [ ' '.join(grams) for grams in n_grams]"
   ]
  },
  {
   "cell_type": "code",
   "execution_count": 101,
   "metadata": {},
   "outputs": [],
   "source": [
    "def get_ngrams_full(dataframe, column, company, num_grams, n_most_common=10):\n",
    "    texts = ''\n",
    "    words = []\n",
    "    dataframe = dataframe[dataframe['company'] == company]\n",
    "    for line in dataframe[column]: \n",
    "        line_words = line.split()\n",
    "        lw = [w.lower() for w in line_words if w not in sw]\n",
    "        words.extend(lw)\n",
    "    \n",
    "    c = collections.Counter()\n",
    "    for word in get_ngrams(words, num_grams):\n",
    "        c[word] += 1\n",
    "\n",
    "    return c.most_common(n_most_common)"
   ]
  },
  {
   "cell_type": "code",
   "execution_count": 102,
   "metadata": {},
   "outputs": [
    {
     "name": "stderr",
     "output_type": "stream",
     "text": [
      "100%|██████████| 5/5 [00:09<00:00,  1.98s/it]\n"
     ]
    }
   ],
   "source": [
    "r_df = pd.DataFrame()\n",
    "for company in tqdm(result_df['company'].unique()):\n",
    "    res_dict = {}\n",
    "    res_dict['Company'] = company\n",
    "    res_dict['number_of_reviews'] = result_df[result_df['company'] == company].shape[0]\n",
    "    res_dict['unigram'] = get_ngrams_full(result_df, 'text', company, 1)\n",
    "    res_dict['bigram'] = get_ngrams_full(result_df, 'text', company, 2)\n",
    "    res_dict['trigram'] = get_ngrams_full(result_df, 'text', company, 3)\n",
    "    res_dict['4_igram'] = get_ngrams_full(result_df, 'text', company, 4)\n",
    "    r_df = pd.concat((r_df, pd.DataFrame.from_dict(res_dict)))"
   ]
  },
  {
   "cell_type": "code",
   "execution_count": 103,
   "metadata": {},
   "outputs": [],
   "source": [
    "r_df.to_csv(\"../data/processed/online_school.csv\")"
   ]
  },
  {
   "cell_type": "code",
   "execution_count": null,
   "metadata": {},
   "outputs": [],
   "source": []
  }
 ],
 "metadata": {
  "kernelspec": {
   "display_name": "Python 3.8.10 ('vzo-xMrpzJVC-py3.8')",
   "language": "python",
   "name": "python3"
  },
  "language_info": {
   "codemirror_mode": {
    "name": "ipython",
    "version": 3
   },
   "file_extension": ".py",
   "mimetype": "text/x-python",
   "name": "python",
   "nbconvert_exporter": "python",
   "pygments_lexer": "ipython3",
   "version": "3.8.10"
  },
  "orig_nbformat": 4,
  "vscode": {
   "interpreter": {
    "hash": "1c139b7cabd55b996cfd1dd95dc548ab9675ad30d34afd49a5441e26f685c5fd"
   }
  }
 },
 "nbformat": 4,
 "nbformat_minor": 2
}
