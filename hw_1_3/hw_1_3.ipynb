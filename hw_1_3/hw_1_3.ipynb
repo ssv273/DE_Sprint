{
 "cells": [
  {
   "cell_type": "markdown",
   "id": "d283a386-2b5a-4e03-9563-485bbfc79f08",
   "metadata": {},
   "source": [
    "## 2. Палиндром строки\n",
    "\n",
    "Дана строка X, возвращайте True, если X является палиндромом.\n",
    "\n",
    "Строка является палиндромом тогда, когда она читается одинаково как в обратном, так и в прямом направлении.\n",
    "\n",
    "    Например, является “taco cat” является палиндромом, в то время как “black cat” не является.\n",
    "\n",
    "В данной задаче пробелы не учитываются.\n",
    "\n",
    "Гарантируется, что исходная строка может содержать символы только нижнего регистра. "
   ]
  },
  {
   "cell_type": "code",
   "execution_count": 1,
   "id": "9d5321d9-dd00-455f-accb-e2e6731e5ab6",
   "metadata": {},
   "outputs": [],
   "source": [
    "def palindrom(data):\n",
    "    data = data.replace(\" \", '')\n",
    "    return data == data[::-1]"
   ]
  },
  {
   "cell_type": "code",
   "execution_count": 2,
   "id": "96b0785f-b454-4ec2-acfb-eee37b2ea548",
   "metadata": {},
   "outputs": [
    {
     "data": {
      "text/plain": [
       "(True, False, True)"
      ]
     },
     "execution_count": 2,
     "metadata": {},
     "output_type": "execute_result"
    }
   ],
   "source": [
    "palindrom(\"taco cat\"), palindrom(\"black cat\"), palindrom(\"rotator\")"
   ]
  },
  {
   "cell_type": "markdown",
   "id": "22f0d6b5-b1de-4e27-a813-ba3bea85810d",
   "metadata": {},
   "source": [
    "## 3. Перевод арабского числа в римское\n",
    "\n",
    "Дано целое положительное число X, необходимо вывести вариант этого числа в римской системе счисления в формате строки. "
   ]
  },
  {
   "cell_type": "code",
   "execution_count": 3,
   "id": "558898b4-84e5-4549-a60d-051c05b65feb",
   "metadata": {},
   "outputs": [],
   "source": [
    "def trans(n):\n",
    "    result = ''\n",
    "    for arabic, roman in zip((1000, 900, 500, 400, 100, 90, 50, 40, 10, 9, 5, 4, 1),\n",
    "                             'M     CM   D    CD   C    XC  L   XL  X   IX V  IV I'.split()):\n",
    "        result += n // arabic * roman\n",
    "        n %= arabic\n",
    "    return result"
   ]
  },
  {
   "cell_type": "code",
   "execution_count": 4,
   "id": "2a2f8bd8-4cfc-449b-8d3d-9910959d6149",
   "metadata": {},
   "outputs": [
    {
     "data": {
      "text/plain": [
       "('IX', 'MCMXLV', 'IV')"
      ]
     },
     "execution_count": 4,
     "metadata": {},
     "output_type": "execute_result"
    }
   ],
   "source": [
    "trans(9), trans(1945), trans(4)"
   ]
  },
  {
   "cell_type": "markdown",
   "id": "bd3e8894-cdb4-497d-9689-3e98d0a24c6f",
   "metadata": {},
   "source": [
    "## 4. Валидность скобок\n",
    "\n",
    "Дана строка X, состоящая только из символов “{“, “}”, “[“, “]”, “(“, “)”. Программа должна вывести True, в том случае если все открытые скобки закрыты. Например: “[()]{}”, все открытые скобки закрыты закрывающимися скобками, потому вывод будет True. В случае же, если строка будет похожа на: “{{{}”, то вывод будет False, т.к. не все открытые скобки закрыты. "
   ]
  },
  {
   "cell_type": "code",
   "execution_count": 5,
   "id": "bfb7d1d7-f3ce-4bae-ba07-55eb8009fe03",
   "metadata": {},
   "outputs": [],
   "source": [
    "def check(string):\n",
    "    brackets_open = ('(', '[', '{', '<')\n",
    "    brackets_closed = (')', ']', '}', '>')\n",
    "    stack = []\n",
    "    for i in string:\n",
    "        if i in brackets_open:\n",
    "            stack.append(i)\n",
    "        if i in brackets_closed:    \n",
    "            if len(stack) == 0:\n",
    "                return False\n",
    "            index = brackets_closed.index(i)\n",
    "            open_bracket = brackets_open[index]\n",
    "            if stack[-1] == open_bracket:\n",
    "                stack = stack[:-1]  \n",
    "            else: return False  \n",
    "    return (not stack)"
   ]
  },
  {
   "cell_type": "code",
   "execution_count": 6,
   "id": "a736b93c-287b-4919-b7d8-122e76734a60",
   "metadata": {},
   "outputs": [
    {
     "data": {
      "text/plain": [
       "(True, False)"
      ]
     },
     "execution_count": 6,
     "metadata": {},
     "output_type": "execute_result"
    }
   ],
   "source": [
    "check(\"[()]{}\"), check(\"{{{}\")"
   ]
  },
  {
   "cell_type": "markdown",
   "id": "a253efa9-a47a-4a44-8e9d-3f45743269f9",
   "metadata": {},
   "source": [
    "## 5. Умножить два бинарных числа в формате строк\n",
    "\n",
    "На вход подаются две строки X1 и X2, содержащие бинарные числа.\n",
    "\n",
    "Необходимо вывести их бинарное произведение в формате строки.  \n",
    "\n",
    "Пример 1:\n",
    "\n",
    "Ввод: x1 = ‘’111” и x2= “101”\n",
    "\n",
    "Вывод: “100011”"
   ]
  },
  {
   "cell_type": "code",
   "execution_count": 7,
   "id": "23e6e492-f3c0-4709-a6a9-fa7d9d9802d1",
   "metadata": {},
   "outputs": [
    {
     "name": "stdin",
     "output_type": "stream",
     "text": [
      "Введите первое число в 2ой системе:  111\n",
      "Введите второе число в 2ой системе:  101\n"
     ]
    },
    {
     "name": "stdout",
     "output_type": "stream",
     "text": [
      "100011\n"
     ]
    }
   ],
   "source": [
    "number1 = str(input(\"Введите первое число в 2ой системе: \"))\n",
    "number2 = str(input(\"Введите второе число в 2ой системе: \"))\n",
    "prod = int(number1, 2) * int(number2, 2)\n",
    "result = bin(prod)[2:]\n",
    "print(result)"
   ]
  },
  {
   "cell_type": "code",
   "execution_count": null,
   "id": "ae561264-d91a-4f5a-b95f-43a6dc0d0a73",
   "metadata": {},
   "outputs": [],
   "source": []
  }
 ],
 "metadata": {
  "kernelspec": {
   "display_name": "Python 3 (ipykernel)",
   "language": "python",
   "name": "python3"
  },
  "language_info": {
   "codemirror_mode": {
    "name": "ipython",
    "version": 3
   },
   "file_extension": ".py",
   "mimetype": "text/x-python",
   "name": "python",
   "nbconvert_exporter": "python",
   "pygments_lexer": "ipython3",
   "version": "3.8.10"
  }
 },
 "nbformat": 4,
 "nbformat_minor": 5
}
